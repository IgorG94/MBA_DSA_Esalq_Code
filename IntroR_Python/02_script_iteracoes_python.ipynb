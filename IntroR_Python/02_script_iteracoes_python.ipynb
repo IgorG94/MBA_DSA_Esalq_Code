{
  "nbformat": 4,
  "nbformat_minor": 0,
  "metadata": {
    "colab": {
      "name": "02_script_iteracoes_python.ipynb",
      "provenance": []
    },
    "kernelspec": {
      "name": "python3",
      "display_name": "Python 3"
    },
    "language_info": {
      "name": "python"
    }
  },
  "cells": [
    {
      "cell_type": "markdown",
      "source": [
        "# Funções if, else e elif\n",
        "\n",
        "**O elif é a função que substitui o ifelse do R!**\n",
        "\n",
        "Exemplos:"
      ],
      "metadata": {
        "id": "ej6rsMhDs-CD"
      }
    },
    {
      "cell_type": "code",
      "source": [
        "vetor = 2\n",
        "\n",
        "if vetor > 1:\n",
        "  print(\"oi!\")"
      ],
      "metadata": {
        "colab": {
          "base_uri": "https://localhost:8080/"
        },
        "id": "vzvOTHIStJF9",
        "outputId": "ba181a73-619c-49f6-beb3-9adc927c5fef"
      },
      "execution_count": 2,
      "outputs": [
        {
          "output_type": "stream",
          "name": "stdout",
          "text": [
            "oi!\n"
          ]
        }
      ]
    },
    {
      "cell_type": "markdown",
      "source": [
        "Porém:"
      ],
      "metadata": {
        "id": "jKEO3pQitSZi"
      }
    },
    {
      "cell_type": "code",
      "source": [
        "if vetor > 5:\n",
        "  print(\"oi!\")"
      ],
      "metadata": {
        "id": "LF87CTTUtQCx"
      },
      "execution_count": 3,
      "outputs": []
    },
    {
      "cell_type": "markdown",
      "source": [
        "O Python não responde nada, porque não cumpre com a condição delimitada!\n",
        "\n",
        "Para corrigir, utilizamos o else:"
      ],
      "metadata": {
        "id": "UusEHcJmtd6D"
      }
    },
    {
      "cell_type": "code",
      "source": [
        "if vetor > 5:\n",
        "  print(\"oi!\")\n",
        "else:\n",
        "  print(\"voltei!\")"
      ],
      "metadata": {
        "colab": {
          "base_uri": "https://localhost:8080/"
        },
        "id": "6lHU0zretZ-U",
        "outputId": "aae4077b-216a-4da9-dc53-746e18f20a8a"
      },
      "execution_count": 4,
      "outputs": [
        {
          "output_type": "stream",
          "name": "stdout",
          "text": [
            "voltei!\n"
          ]
        }
      ]
    },
    {
      "cell_type": "markdown",
      "source": [
        "Entendendo como elif funciona:"
      ],
      "metadata": {
        "id": "wxQkpcs3tri9"
      }
    },
    {
      "cell_type": "code",
      "source": [
        "vetor = 7\n",
        "\n",
        "if vetor > 8:\n",
        "  print(\"O objeto é maior do que 8\")\n",
        "elif vetor > 7:\n",
        "  print(\"O objeto é maior do que 7\")\n",
        "elif vetor > 6:\n",
        "  print(\"O objeto é maior do que 6\")\n",
        "elif vetor > 5:\n",
        "  print(\"O objeto é maior do que 5\")\n",
        "else:\n",
        "  print(\"O objeto é maior do que 4\")"
      ],
      "metadata": {
        "colab": {
          "base_uri": "https://localhost:8080/"
        },
        "id": "QNsVnE-ltpdB",
        "outputId": "53a8f8cc-b7b3-4205-b7f4-db8aa5f289ea"
      },
      "execution_count": 5,
      "outputs": [
        {
          "output_type": "stream",
          "name": "stdout",
          "text": [
            "O objeto é maior do que 6\n"
          ]
        }
      ]
    },
    {
      "cell_type": "markdown",
      "source": [
        "Não há função equivalente ao ifelse do R no Python!"
      ],
      "metadata": {
        "id": "aCOLoLitubWq"
      }
    },
    {
      "cell_type": "markdown",
      "source": [
        "# Funções iterativas - a função for()"
      ],
      "metadata": {
        "id": "UfuOca05ufhv"
      }
    },
    {
      "cell_type": "code",
      "source": [
        "y = 10\n",
        "\n",
        "for i in range(1, 6):\n",
        "  print(y + i)"
      ],
      "metadata": {
        "colab": {
          "base_uri": "https://localhost:8080/"
        },
        "id": "ZXkjaWJfuh0e",
        "outputId": "1563acaa-fb48-44f7-c75b-6413a38ac862"
      },
      "execution_count": 7,
      "outputs": [
        {
          "output_type": "stream",
          "name": "stdout",
          "text": [
            "11\n",
            "12\n",
            "13\n",
            "14\n",
            "15\n"
          ]
        }
      ]
    },
    {
      "cell_type": "markdown",
      "source": [
        "De onde veio o i? Você consegue entender o que ocorreu?\n",
        "\n",
        "Não há a necessidade de se trabalhar apenas com números! Exemplo:"
      ],
      "metadata": {
        "id": "bP52Twl2utmi"
      }
    },
    {
      "cell_type": "code",
      "source": [
        "vetor_regioes = [\"norte\", \"nordeste\", \"sudeste\", \"sul\", \"centro-oeste\"]\n",
        "\n",
        "for regiao in vetor_regioes:\n",
        "  print(regiao)"
      ],
      "metadata": {
        "colab": {
          "base_uri": "https://localhost:8080/"
        },
        "id": "B39-EcWTueg-",
        "outputId": "67ae7e10-243c-4a27-8735-94f8602e9a3a"
      },
      "execution_count": 8,
      "outputs": [
        {
          "output_type": "stream",
          "name": "stdout",
          "text": [
            "norte\n",
            "nordeste\n",
            "sudeste\n",
            "sul\n",
            "centro-oeste\n"
          ]
        }
      ]
    },
    {
      "cell_type": "markdown",
      "source": [
        "# A função while()"
      ],
      "metadata": {
        "id": "DYEMa6uDu6Vf"
      }
    },
    {
      "cell_type": "code",
      "source": [
        "z = 0\n",
        "\n",
        "while z < 10:\n",
        "  print(z)\n",
        "  z += 1"
      ],
      "metadata": {
        "colab": {
          "base_uri": "https://localhost:8080/"
        },
        "id": "oKk6m45Au8NC",
        "outputId": "89fa56c3-6a71-41f5-b1d1-9ce3a07ef556"
      },
      "execution_count": 10,
      "outputs": [
        {
          "output_type": "stream",
          "name": "stdout",
          "text": [
            "0\n",
            "1\n",
            "2\n",
            "3\n",
            "4\n",
            "5\n",
            "6\n",
            "7\n",
            "8\n",
            "9\n"
          ]
        }
      ]
    },
    {
      "cell_type": "code",
      "source": [
        "w = 3\n",
        "\n",
        "while True:\n",
        "  print(w)\n",
        "  w = w + 2\n",
        "  if w > 18:\n",
        "    break"
      ],
      "metadata": {
        "colab": {
          "base_uri": "https://localhost:8080/"
        },
        "id": "TyaaePnTvwYB",
        "outputId": "12ad8d90-c679-4d2d-8cc9-65f7888d209d"
      },
      "execution_count": 11,
      "outputs": [
        {
          "output_type": "stream",
          "name": "stdout",
          "text": [
            "3\n",
            "5\n",
            "7\n",
            "9\n",
            "11\n",
            "13\n",
            "15\n",
            "17\n"
          ]
        }
      ]
    }
  ]
}